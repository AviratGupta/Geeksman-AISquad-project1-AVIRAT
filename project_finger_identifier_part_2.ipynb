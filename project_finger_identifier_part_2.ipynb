{
  "nbformat": 4,
  "nbformat_minor": 0,
  "metadata": {
    "colab": {
      "name": "project_finger-identifier_part_2.ipynb",
      "provenance": [],
      "collapsed_sections": [],
      "mount_file_id": "1lq4SqfC5-QmidbS2bdk8QNpzTKJDekHX",
      "authorship_tag": "ABX9TyO3VZHRZ5BsSJnkaCRhFHRe",
      "include_colab_link": true
    },
    "kernelspec": {
      "name": "python3",
      "display_name": "Python 3"
    },
    "accelerator": "GPU"
  },
  "cells": [
    {
      "cell_type": "markdown",
      "metadata": {
        "id": "view-in-github",
        "colab_type": "text"
      },
      "source": [
        "<a href=\"https://colab.research.google.com/github/AviratGupta/Geeksman-AISquad-project1-AVIRAT/blob/master/project_finger_identifier_part_2.ipynb\" target=\"_parent\"><img src=\"https://colab.research.google.com/assets/colab-badge.svg\" alt=\"Open In Colab\"/></a>"
      ]
    },
    {
      "cell_type": "markdown",
      "metadata": {
        "id": "EsDvFmNYh1Ad",
        "colab_type": "text"
      },
      "source": [
        "https://drive.google.com/uc?id=1P5TY6G9b7NeNqV9JjSeJy5le42t2FiYT"
      ]
    },
    {
      "cell_type": "markdown",
      "metadata": {
        "id": "hLecHKQMh73H",
        "colab_type": "text"
      },
      "source": [
        "importing important libraries.."
      ]
    },
    {
      "cell_type": "code",
      "metadata": {
        "id": "yPWg8KI2xGz-",
        "colab_type": "code",
        "colab": {}
      },
      "source": [
        "%reload_ext autoreload\n",
        "%autoreload 2\n",
        "%matplotlib inline\n",
        "import os\n",
        "from fastai.vision import *\n",
        "from fastai.metrics import error_rate\n",
        "import warnings\n",
        "warnings.filterwarnings(\"ignore\")"
      ],
      "execution_count": 1,
      "outputs": []
    },
    {
      "cell_type": "markdown",
      "metadata": {
        "id": "UYrf1OqniA0k",
        "colab_type": "text"
      },
      "source": [
        "uploading kaggle.json file."
      ]
    },
    {
      "cell_type": "code",
      "metadata": {
        "id": "6KeCYipd5-Yg",
        "colab_type": "code",
        "colab": {
          "resources": {
            "http://localhost:8080/nbextensions/google.colab/files.js": {
              "data": "Ly8gQ29weXJpZ2h0IDIwMTcgR29vZ2xlIExMQwovLwovLyBMaWNlbnNlZCB1bmRlciB0aGUgQXBhY2hlIExpY2Vuc2UsIFZlcnNpb24gMi4wICh0aGUgIkxpY2Vuc2UiKTsKLy8geW91IG1heSBub3QgdXNlIHRoaXMgZmlsZSBleGNlcHQgaW4gY29tcGxpYW5jZSB3aXRoIHRoZSBMaWNlbnNlLgovLyBZb3UgbWF5IG9idGFpbiBhIGNvcHkgb2YgdGhlIExpY2Vuc2UgYXQKLy8KLy8gICAgICBodHRwOi8vd3d3LmFwYWNoZS5vcmcvbGljZW5zZXMvTElDRU5TRS0yLjAKLy8KLy8gVW5sZXNzIHJlcXVpcmVkIGJ5IGFwcGxpY2FibGUgbGF3IG9yIGFncmVlZCB0byBpbiB3cml0aW5nLCBzb2Z0d2FyZQovLyBkaXN0cmlidXRlZCB1bmRlciB0aGUgTGljZW5zZSBpcyBkaXN0cmlidXRlZCBvbiBhbiAiQVMgSVMiIEJBU0lTLAovLyBXSVRIT1VUIFdBUlJBTlRJRVMgT1IgQ09ORElUSU9OUyBPRiBBTlkgS0lORCwgZWl0aGVyIGV4cHJlc3Mgb3IgaW1wbGllZC4KLy8gU2VlIHRoZSBMaWNlbnNlIGZvciB0aGUgc3BlY2lmaWMgbGFuZ3VhZ2UgZ292ZXJuaW5nIHBlcm1pc3Npb25zIGFuZAovLyBsaW1pdGF0aW9ucyB1bmRlciB0aGUgTGljZW5zZS4KCi8qKgogKiBAZmlsZW92ZXJ2aWV3IEhlbHBlcnMgZm9yIGdvb2dsZS5jb2xhYiBQeXRob24gbW9kdWxlLgogKi8KKGZ1bmN0aW9uKHNjb3BlKSB7CmZ1bmN0aW9uIHNwYW4odGV4dCwgc3R5bGVBdHRyaWJ1dGVzID0ge30pIHsKICBjb25zdCBlbGVtZW50ID0gZG9jdW1lbnQuY3JlYXRlRWxlbWVudCgnc3BhbicpOwogIGVsZW1lbnQudGV4dENvbnRlbnQgPSB0ZXh0OwogIGZvciAoY29uc3Qga2V5IG9mIE9iamVjdC5rZXlzKHN0eWxlQXR0cmlidXRlcykpIHsKICAgIGVsZW1lbnQuc3R5bGVba2V5XSA9IHN0eWxlQXR0cmlidXRlc1trZXldOwogIH0KICByZXR1cm4gZWxlbWVudDsKfQoKLy8gTWF4IG51bWJlciBvZiBieXRlcyB3aGljaCB3aWxsIGJlIHVwbG9hZGVkIGF0IGEgdGltZS4KY29uc3QgTUFYX1BBWUxPQURfU0laRSA9IDEwMCAqIDEwMjQ7CgpmdW5jdGlvbiBfdXBsb2FkRmlsZXMoaW5wdXRJZCwgb3V0cHV0SWQpIHsKICBjb25zdCBzdGVwcyA9IHVwbG9hZEZpbGVzU3RlcChpbnB1dElkLCBvdXRwdXRJZCk7CiAgY29uc3Qgb3V0cHV0RWxlbWVudCA9IGRvY3VtZW50LmdldEVsZW1lbnRCeUlkKG91dHB1dElkKTsKICAvLyBDYWNoZSBzdGVwcyBvbiB0aGUgb3V0cHV0RWxlbWVudCB0byBtYWtlIGl0IGF2YWlsYWJsZSBmb3IgdGhlIG5leHQgY2FsbAogIC8vIHRvIHVwbG9hZEZpbGVzQ29udGludWUgZnJvbSBQeXRob24uCiAgb3V0cHV0RWxlbWVudC5zdGVwcyA9IHN0ZXBzOwoKICByZXR1cm4gX3VwbG9hZEZpbGVzQ29udGludWUob3V0cHV0SWQpOwp9CgovLyBUaGlzIGlzIHJvdWdobHkgYW4gYXN5bmMgZ2VuZXJhdG9yIChub3Qgc3VwcG9ydGVkIGluIHRoZSBicm93c2VyIHlldCksCi8vIHdoZXJlIHRoZXJlIGFyZSBtdWx0aXBsZSBhc3luY2hyb25vdXMgc3RlcHMgYW5kIHRoZSBQeXRob24gc2lkZSBpcyBnb2luZwovLyB0byBwb2xsIGZvciBjb21wbGV0aW9uIG9mIGVhY2ggc3RlcC4KLy8gVGhpcyB1c2VzIGEgUHJvbWlzZSB0byBibG9jayB0aGUgcHl0aG9uIHNpZGUgb24gY29tcGxldGlvbiBvZiBlYWNoIHN0ZXAsCi8vIHRoZW4gcGFzc2VzIHRoZSByZXN1bHQgb2YgdGhlIHByZXZpb3VzIHN0ZXAgYXMgdGhlIGlucHV0IHRvIHRoZSBuZXh0IHN0ZXAuCmZ1bmN0aW9uIF91cGxvYWRGaWxlc0NvbnRpbnVlKG91dHB1dElkKSB7CiAgY29uc3Qgb3V0cHV0RWxlbWVudCA9IGRvY3VtZW50LmdldEVsZW1lbnRCeUlkKG91dHB1dElkKTsKICBjb25zdCBzdGVwcyA9IG91dHB1dEVsZW1lbnQuc3RlcHM7CgogIGNvbnN0IG5leHQgPSBzdGVwcy5uZXh0KG91dHB1dEVsZW1lbnQubGFzdFByb21pc2VWYWx1ZSk7CiAgcmV0dXJuIFByb21pc2UucmVzb2x2ZShuZXh0LnZhbHVlLnByb21pc2UpLnRoZW4oKHZhbHVlKSA9PiB7CiAgICAvLyBDYWNoZSB0aGUgbGFzdCBwcm9taXNlIHZhbHVlIHRvIG1ha2UgaXQgYXZhaWxhYmxlIHRvIHRoZSBuZXh0CiAgICAvLyBzdGVwIG9mIHRoZSBnZW5lcmF0b3IuCiAgICBvdXRwdXRFbGVtZW50Lmxhc3RQcm9taXNlVmFsdWUgPSB2YWx1ZTsKICAgIHJldHVybiBuZXh0LnZhbHVlLnJlc3BvbnNlOwogIH0pOwp9CgovKioKICogR2VuZXJhdG9yIGZ1bmN0aW9uIHdoaWNoIGlzIGNhbGxlZCBiZXR3ZWVuIGVhY2ggYXN5bmMgc3RlcCBvZiB0aGUgdXBsb2FkCiAqIHByb2Nlc3MuCiAqIEBwYXJhbSB7c3RyaW5nfSBpbnB1dElkIEVsZW1lbnQgSUQgb2YgdGhlIGlucHV0IGZpbGUgcGlja2VyIGVsZW1lbnQuCiAqIEBwYXJhbSB7c3RyaW5nfSBvdXRwdXRJZCBFbGVtZW50IElEIG9mIHRoZSBvdXRwdXQgZGlzcGxheS4KICogQHJldHVybiB7IUl0ZXJhYmxlPCFPYmplY3Q+fSBJdGVyYWJsZSBvZiBuZXh0IHN0ZXBzLgogKi8KZnVuY3Rpb24qIHVwbG9hZEZpbGVzU3RlcChpbnB1dElkLCBvdXRwdXRJZCkgewogIGNvbnN0IGlucHV0RWxlbWVudCA9IGRvY3VtZW50LmdldEVsZW1lbnRCeUlkKGlucHV0SWQpOwogIGlucHV0RWxlbWVudC5kaXNhYmxlZCA9IGZhbHNlOwoKICBjb25zdCBvdXRwdXRFbGVtZW50ID0gZG9jdW1lbnQuZ2V0RWxlbWVudEJ5SWQob3V0cHV0SWQpOwogIG91dHB1dEVsZW1lbnQuaW5uZXJIVE1MID0gJyc7CgogIGNvbnN0IHBpY2tlZFByb21pc2UgPSBuZXcgUHJvbWlzZSgocmVzb2x2ZSkgPT4gewogICAgaW5wdXRFbGVtZW50LmFkZEV2ZW50TGlzdGVuZXIoJ2NoYW5nZScsIChlKSA9PiB7CiAgICAgIHJlc29sdmUoZS50YXJnZXQuZmlsZXMpOwogICAgfSk7CiAgfSk7CgogIGNvbnN0IGNhbmNlbCA9IGRvY3VtZW50LmNyZWF0ZUVsZW1lbnQoJ2J1dHRvbicpOwogIGlucHV0RWxlbWVudC5wYXJlbnRFbGVtZW50LmFwcGVuZENoaWxkKGNhbmNlbCk7CiAgY2FuY2VsLnRleHRDb250ZW50ID0gJ0NhbmNlbCB1cGxvYWQnOwogIGNvbnN0IGNhbmNlbFByb21pc2UgPSBuZXcgUHJvbWlzZSgocmVzb2x2ZSkgPT4gewogICAgY2FuY2VsLm9uY2xpY2sgPSAoKSA9PiB7CiAgICAgIHJlc29sdmUobnVsbCk7CiAgICB9OwogIH0pOwoKICAvLyBXYWl0IGZvciB0aGUgdXNlciB0byBwaWNrIHRoZSBmaWxlcy4KICBjb25zdCBmaWxlcyA9IHlpZWxkIHsKICAgIHByb21pc2U6IFByb21pc2UucmFjZShbcGlja2VkUHJvbWlzZSwgY2FuY2VsUHJvbWlzZV0pLAogICAgcmVzcG9uc2U6IHsKICAgICAgYWN0aW9uOiAnc3RhcnRpbmcnLAogICAgfQogIH07CgogIGNhbmNlbC5yZW1vdmUoKTsKCiAgLy8gRGlzYWJsZSB0aGUgaW5wdXQgZWxlbWVudCBzaW5jZSBmdXJ0aGVyIHBpY2tzIGFyZSBub3QgYWxsb3dlZC4KICBpbnB1dEVsZW1lbnQuZGlzYWJsZWQgPSB0cnVlOwoKICBpZiAoIWZpbGVzKSB7CiAgICByZXR1cm4gewogICAgICByZXNwb25zZTogewogICAgICAgIGFjdGlvbjogJ2NvbXBsZXRlJywKICAgICAgfQogICAgfTsKICB9CgogIGZvciAoY29uc3QgZmlsZSBvZiBmaWxlcykgewogICAgY29uc3QgbGkgPSBkb2N1bWVudC5jcmVhdGVFbGVtZW50KCdsaScpOwogICAgbGkuYXBwZW5kKHNwYW4oZmlsZS5uYW1lLCB7Zm9udFdlaWdodDogJ2JvbGQnfSkpOwogICAgbGkuYXBwZW5kKHNwYW4oCiAgICAgICAgYCgke2ZpbGUudHlwZSB8fCAnbi9hJ30pIC0gJHtmaWxlLnNpemV9IGJ5dGVzLCBgICsKICAgICAgICBgbGFzdCBtb2RpZmllZDogJHsKICAgICAgICAgICAgZmlsZS5sYXN0TW9kaWZpZWREYXRlID8gZmlsZS5sYXN0TW9kaWZpZWREYXRlLnRvTG9jYWxlRGF0ZVN0cmluZygpIDoKICAgICAgICAgICAgICAgICAgICAgICAgICAgICAgICAgICAgJ24vYSd9IC0gYCkpOwogICAgY29uc3QgcGVyY2VudCA9IHNwYW4oJzAlIGRvbmUnKTsKICAgIGxpLmFwcGVuZENoaWxkKHBlcmNlbnQpOwoKICAgIG91dHB1dEVsZW1lbnQuYXBwZW5kQ2hpbGQobGkpOwoKICAgIGNvbnN0IGZpbGVEYXRhUHJvbWlzZSA9IG5ldyBQcm9taXNlKChyZXNvbHZlKSA9PiB7CiAgICAgIGNvbnN0IHJlYWRlciA9IG5ldyBGaWxlUmVhZGVyKCk7CiAgICAgIHJlYWRlci5vbmxvYWQgPSAoZSkgPT4gewogICAgICAgIHJlc29sdmUoZS50YXJnZXQucmVzdWx0KTsKICAgICAgfTsKICAgICAgcmVhZGVyLnJlYWRBc0FycmF5QnVmZmVyKGZpbGUpOwogICAgfSk7CiAgICAvLyBXYWl0IGZvciB0aGUgZGF0YSB0byBiZSByZWFkeS4KICAgIGxldCBmaWxlRGF0YSA9IHlpZWxkIHsKICAgICAgcHJvbWlzZTogZmlsZURhdGFQcm9taXNlLAogICAgICByZXNwb25zZTogewogICAgICAgIGFjdGlvbjogJ2NvbnRpbnVlJywKICAgICAgfQogICAgfTsKCiAgICAvLyBVc2UgYSBjaHVua2VkIHNlbmRpbmcgdG8gYXZvaWQgbWVzc2FnZSBzaXplIGxpbWl0cy4gU2VlIGIvNjIxMTU2NjAuCiAgICBsZXQgcG9zaXRpb24gPSAwOwogICAgd2hpbGUgKHBvc2l0aW9uIDwgZmlsZURhdGEuYnl0ZUxlbmd0aCkgewogICAgICBjb25zdCBsZW5ndGggPSBNYXRoLm1pbihmaWxlRGF0YS5ieXRlTGVuZ3RoIC0gcG9zaXRpb24sIE1BWF9QQVlMT0FEX1NJWkUpOwogICAgICBjb25zdCBjaHVuayA9IG5ldyBVaW50OEFycmF5KGZpbGVEYXRhLCBwb3NpdGlvbiwgbGVuZ3RoKTsKICAgICAgcG9zaXRpb24gKz0gbGVuZ3RoOwoKICAgICAgY29uc3QgYmFzZTY0ID0gYnRvYShTdHJpbmcuZnJvbUNoYXJDb2RlLmFwcGx5KG51bGwsIGNodW5rKSk7CiAgICAgIHlpZWxkIHsKICAgICAgICByZXNwb25zZTogewogICAgICAgICAgYWN0aW9uOiAnYXBwZW5kJywKICAgICAgICAgIGZpbGU6IGZpbGUubmFtZSwKICAgICAgICAgIGRhdGE6IGJhc2U2NCwKICAgICAgICB9LAogICAgICB9OwogICAgICBwZXJjZW50LnRleHRDb250ZW50ID0KICAgICAgICAgIGAke01hdGgucm91bmQoKHBvc2l0aW9uIC8gZmlsZURhdGEuYnl0ZUxlbmd0aCkgKiAxMDApfSUgZG9uZWA7CiAgICB9CiAgfQoKICAvLyBBbGwgZG9uZS4KICB5aWVsZCB7CiAgICByZXNwb25zZTogewogICAgICBhY3Rpb246ICdjb21wbGV0ZScsCiAgICB9CiAgfTsKfQoKc2NvcGUuZ29vZ2xlID0gc2NvcGUuZ29vZ2xlIHx8IHt9OwpzY29wZS5nb29nbGUuY29sYWIgPSBzY29wZS5nb29nbGUuY29sYWIgfHwge307CnNjb3BlLmdvb2dsZS5jb2xhYi5fZmlsZXMgPSB7CiAgX3VwbG9hZEZpbGVzLAogIF91cGxvYWRGaWxlc0NvbnRpbnVlLAp9Owp9KShzZWxmKTsK",
              "ok": true,
              "headers": [
                [
                  "content-type",
                  "application/javascript"
                ]
              ],
              "status": 200,
              "status_text": ""
            }
          },
          "base_uri": "https://localhost:8080/",
          "height": 72
        },
        "outputId": "e9a892b9-298c-4740-f50e-036f4790e8e8"
      },
      "source": [
        "from google.colab import files\n",
        "my_file=files.upload()"
      ],
      "execution_count": 2,
      "outputs": [
        {
          "output_type": "display_data",
          "data": {
            "text/html": [
              "\n",
              "     <input type=\"file\" id=\"files-858c0deb-b3e4-4e1f-88c8-1dceadaab756\" name=\"files[]\" multiple disabled\n",
              "        style=\"border:none\" />\n",
              "     <output id=\"result-858c0deb-b3e4-4e1f-88c8-1dceadaab756\">\n",
              "      Upload widget is only available when the cell has been executed in the\n",
              "      current browser session. Please rerun this cell to enable.\n",
              "      </output>\n",
              "      <script src=\"/nbextensions/google.colab/files.js\"></script> "
            ],
            "text/plain": [
              "<IPython.core.display.HTML object>"
            ]
          },
          "metadata": {
            "tags": []
          }
        },
        {
          "output_type": "stream",
          "text": [
            "Saving kaggle.json to kaggle.json\n"
          ],
          "name": "stdout"
        }
      ]
    },
    {
      "cell_type": "markdown",
      "metadata": {
        "id": "dYO1Ih6miDjt",
        "colab_type": "text"
      },
      "source": [
        "setting up environment."
      ]
    },
    {
      "cell_type": "code",
      "metadata": {
        "id": "QMcR7a2O7Ovy",
        "colab_type": "code",
        "colab": {}
      },
      "source": [
        "import os\n",
        "import pandas as pd\n",
        "cred = pd.read_json(\"kaggle.json\",lines=True)\n",
        "os.environ['KAGGLE_USERNAME'] = cred.iloc[0][0]\n",
        "os.environ['KAGGLE_KEY'] = cred.iloc[0][1]"
      ],
      "execution_count": 3,
      "outputs": []
    },
    {
      "cell_type": "code",
      "metadata": {
        "id": "Bla2fSpS7SzZ",
        "colab_type": "code",
        "colab": {
          "base_uri": "https://localhost:8080/",
          "height": 68
        },
        "outputId": "537cf575-d34f-4723-ea97-8ed4167a2331"
      },
      "source": [
        "!kaggle datasets download -d aviratgupta/finger-identify"
      ],
      "execution_count": 4,
      "outputs": [
        {
          "output_type": "stream",
          "text": [
            "Downloading finger-identify.zip to /content\n",
            " 86% 38.0M/44.2M [00:00<00:00, 28.9MB/s]\n",
            "100% 44.2M/44.2M [00:00<00:00, 64.9MB/s]\n"
          ],
          "name": "stdout"
        }
      ]
    },
    {
      "cell_type": "markdown",
      "metadata": {
        "id": "HhEScUaqiGhU",
        "colab_type": "text"
      },
      "source": [
        "unzipping our dataset."
      ]
    },
    {
      "cell_type": "code",
      "metadata": {
        "id": "8noh1fvq7cK7",
        "colab_type": "code",
        "colab": {}
      },
      "source": [
        "!unzip \"*.zip\""
      ],
      "execution_count": null,
      "outputs": []
    },
    {
      "cell_type": "code",
      "metadata": {
        "id": "xEq5beQBxJc-",
        "colab_type": "code",
        "colab": {
          "base_uri": "https://localhost:8080/",
          "height": 204
        },
        "outputId": "aa360107-4b57-4b38-9a63-3170c40d08f8"
      },
      "source": [
        "!wget -O \"export.pkl\" \"https://drive.google.com/uc?id=1ny6XSR4XJBO7im0s7F0TClGEWewcLZXY\""
      ],
      "execution_count": 6,
      "outputs": [
        {
          "output_type": "stream",
          "text": [
            "--2020-08-30 10:11:41--  https://drive.google.com/uc?id=1ny6XSR4XJBO7im0s7F0TClGEWewcLZXY\n",
            "Resolving drive.google.com (drive.google.com)... 74.125.20.100, 74.125.20.113, 74.125.20.101, ...\n",
            "Connecting to drive.google.com (drive.google.com)|74.125.20.100|:443... connected.\n",
            "HTTP request sent, awaiting response... 200 OK\n",
            "Length: unspecified [text/html]\n",
            "Saving to: ‘export.pkl’\n",
            "\n",
            "\rexport.pkl              [<=>                 ]       0  --.-KB/s               \rexport.pkl              [ <=>                ]   3.15K  --.-KB/s    in 0s      \n",
            "\n",
            "2020-08-30 10:11:41 (43.0 MB/s) - ‘export.pkl’ saved [3226]\n",
            "\n"
          ],
          "name": "stdout"
        }
      ]
    },
    {
      "cell_type": "markdown",
      "metadata": {
        "id": "EDYxh-RVhgq5",
        "colab_type": "text"
      },
      "source": [
        "# prediction time..\n",
        "\n",
        "Here our predictions start by creatingn a function my_predictor which open a test image and try to predict the image."
      ]
    },
    {
      "cell_type": "code",
      "metadata": {
        "id": "2ENtyEX6xlb0",
        "colab_type": "code",
        "colab": {
          "base_uri": "https://localhost:8080/",
          "height": 51
        },
        "outputId": "1cfc60f2-8222-4eb4-9af5-9d2d53f99baa"
      },
      "source": [
        "%%time\n",
        "my_dir=\"/content/drive/My Drive/project\"\n",
        "Predict = load_learner(my_dir)\n",
        "def predictor(im):\n",
        "  test_img =open_image(im)\n",
        "  pred_class,pred_idx,outputs=Predict.predict(test_img)\n",
        "  return pred_class"
      ],
      "execution_count": 7,
      "outputs": [
        {
          "output_type": "stream",
          "text": [
            "CPU times: user 3.27 s, sys: 1.57 s, total: 4.83 s\n",
            "Wall time: 52.2 s\n"
          ],
          "name": "stdout"
        }
      ]
    },
    {
      "cell_type": "markdown",
      "metadata": {
        "id": "G0iaS4kNhlqU",
        "colab_type": "text"
      },
      "source": [
        "gives us a predicted image and predicted number."
      ]
    },
    {
      "cell_type": "markdown",
      "metadata": {
        "id": "DtF5ITORiQfk",
        "colab_type": "text"
      },
      "source": [
        "our predicted image and predicted number."
      ]
    },
    {
      "cell_type": "code",
      "metadata": {
        "id": "H1cwAPKS538C",
        "colab_type": "code",
        "colab": {
          "base_uri": "https://localhost:8080/",
          "height": 143
        },
        "outputId": "db80d383-08cd-4689-8cf1-70f1e56548cb"
      },
      "source": [
        "test_img = os.listdir(\"test_fingers/test_fingers\")\n",
        "index = 0\n",
        "print(predictor(\"test_fingers/test_fingers/\"+test_img[index]))\n",
        "img = open_image(\"test_fingers/test_fingers/\"+test_img[index])\n",
        "img.show()"
      ],
      "execution_count": 8,
      "outputs": [
        {
          "output_type": "stream",
          "text": [
            "6\n"
          ],
          "name": "stdout"
        },
        {
          "output_type": "display_data",
          "data": {
            "image/png": "[encoded data removed]",
            "text/plain": [
              "<Figure size 216x216 with 1 Axes>"
            ]
          },
          "metadata": {
            "tags": [],
            "needs_background": "light"
          }
        }
      ]
    },
    {
      "cell_type": "markdown",
      "metadata": {
        "id": "VFKWnZUHhpcm",
        "colab_type": "text"
      },
      "source": [
        "# creating video of all trained images in the folder.\n",
        "\n",
        "parameters in opecv2 for editing.\n",
        "\n",
        "img: your image\n",
        "\n",
        "text: a string of text to print on image\n",
        "\n",
        "org: bottom-left corner of the text string in the image (x,y)\n",
        "\n",
        "font: font type\n",
        "\n",
        "fontScale: font scale\n",
        "\n",
        "color: text color (B,G,R)\n",
        "\n",
        "thickness: text line thickness\n",
        "\n",
        "lineType: line type (8)"
      ]
    },
    {
      "cell_type": "code",
      "metadata": {
        "id": "g9-orUSk8rH6",
        "colab_type": "code",
        "colab": {}
      },
      "source": [
        "import cv2\n",
        "test_files = os.listdir(\"test_fingers/test_fingers\")\n",
        "os.makedirs(\"test_result\",exist_ok=True)\n",
        "i=0\n",
        "for test_file in test_files:\n",
        "  img = cv2.imread(\"test_fingers/test_fingers/\"+test_file)\n",
        "  cv2.imwrite(\"sample.jpg\",img)\n",
        "  ans_text = predictor(\"sample.jpg\")\n",
        "  font = cv2.FONT_HERSHEY_TRIPLEX\n",
        "  i += 1\n",
        "  org = (0, 50) \n",
        "  fontScale = 2\n",
        "  color = (80,128,40)\n",
        "  thickness = 4\n",
        "  new_dim = (720, 720)\n",
        "  img_resize = cv2.resize(img, new_dim)\n",
        "  img = cv2.putText(img_resize, str(ans_text), org, font,fontScale, color, thickness, cv2.LINE_AA)\n",
        "  cv2.imwrite(\"test_result/\"+str(i)+\".jpg\", img)"
      ],
      "execution_count": 9,
      "outputs": []
    },
    {
      "cell_type": "code",
      "metadata": {
        "id": "LkpHdoYfBlW3",
        "colab_type": "code",
        "colab": {
          "base_uri": "https://localhost:8080/",
          "height": 921
        },
        "outputId": "eb5b7be0-f61e-4103-dfe1-c8ce672b9bda"
      },
      "source": [
        "%cd \"test_result\"\n",
        "!ffmpeg -framerate 2 -pattern_type glob -i '*.jpg' -s 1920x1080  \\-c:v libx264 -r 1 -pix_fmt yuv420p ../final_result.mp4\n",
        "%cd .."
      ],
      "execution_count": 10,
      "outputs": [
        {
          "output_type": "stream",
          "text": [
            "/content/test_result\n",
            "ffmpeg version 3.4.8-0ubuntu0.2 Copyright (c) 2000-2020 the FFmpeg developers\n",
            "  built with gcc 7 (Ubuntu 7.5.0-3ubuntu1~18.04)\n",
            "  configuration: --prefix=/usr --extra-version=0ubuntu0.2 --toolchain=hardened --libdir=/usr/lib/x86_64-linux-gnu --incdir=/usr/include/x86_64-linux-gnu --enable-gpl --disable-stripping --enable-avresample --enable-avisynth --enable-gnutls --enable-ladspa --enable-libass --enable-libbluray --enable-libbs2b --enable-libcaca --enable-libcdio --enable-libflite --enable-libfontconfig --enable-libfreetype --enable-libfribidi --enable-libgme --enable-libgsm --enable-libmp3lame --enable-libmysofa --enable-libopenjpeg --enable-libopenmpt --enable-libopus --enable-libpulse --enable-librubberband --enable-librsvg --enable-libshine --enable-libsnappy --enable-libsoxr --enable-libspeex --enable-libssh --enable-libtheora --enable-libtwolame --enable-libvorbis --enable-libvpx --enable-libwavpack --enable-libwebp --enable-libx265 --enable-libxml2 --enable-libxvid --enable-libzmq --enable-libzvbi --enable-omx --enable-openal --enable-opengl --enable-sdl2 --enable-libdc1394 --enable-libdrm --enable-libiec61883 --enable-chromaprint --enable-frei0r --enable-libopencv --enable-libx264 --enable-shared\n",
            "  libavutil      55. 78.100 / 55. 78.100\n",
            "  libavcodec     57.107.100 / 57.107.100\n",
            "  libavformat    57. 83.100 / 57. 83.100\n",
            "  libavdevice    57. 10.100 / 57. 10.100\n",
            "  libavfilter     6.107.100 /  6.107.100\n",
            "  libavresample   3.  7.  0 /  3.  7.  0\n",
            "  libswscale      4.  8.100 /  4.  8.100\n",
            "  libswresample   2.  9.100 /  2.  9.100\n",
            "  libpostproc    54.  7.100 / 54.  7.100\n",
            "Input #0, image2, from '*.jpg':\n",
            "  Duration: 00:06:32.50, start: 0.000000, bitrate: N/A\n",
            "    Stream #0:0: Video: mjpeg, yuvj420p(pc, bt470bg/unknown/unknown), 720x720 [SAR 1:1 DAR 1:1], 2 fps, 2 tbr, 2 tbn, 2 tbc\n",
            "Stream mapping:\n",
            "  Stream #0:0 -> #0:0 (mjpeg (native) -> h264 (libx264))\n",
            "Press [q] to stop, [?] for help\n",
            "\u001b[1;34m[swscaler @ 0x55cd9d920000] \u001b[0m\u001b[0;33mdeprecated pixel format used, make sure you did set range correctly\n",
            "\u001b[0m\u001b[1;36m[libx264 @ 0x55cd9d673e00] \u001b[0musing SAR=9/16\n",
            "\u001b[1;36m[libx264 @ 0x55cd9d673e00] \u001b[0musing cpu capabilities: MMX2 SSE2Fast SSSE3 SSE4.2 AVX FMA3 BMI2 AVX2\n",
            "\u001b[1;36m[libx264 @ 0x55cd9d673e00] \u001b[0mprofile High, level 4.0\n",
            "\u001b[1;36m[libx264 @ 0x55cd9d673e00] \u001b[0m264 - core 152 r2854 e9a5903 - H.264/MPEG-4 AVC codec - Copyleft 2003-2017 - http://www.videolan.org/x264.html - options: cabac=1 ref=3 deblock=1:0:0 analyse=0x3:0x113 me=hex subme=7 psy=1 psy_rd=1.00:0.00 mixed_ref=1 me_range=16 chroma_me=1 trellis=1 8x8dct=1 cqm=0 deadzone=21,11 fast_pskip=1 chroma_qp_offset=-2 threads=3 lookahead_threads=1 sliced_threads=0 nr=0 decimate=1 interlaced=0 bluray_compat=0 constrained_intra=0 bframes=3 b_pyramid=2 b_adapt=1 b_bias=0 direct=1 weightb=1 open_gop=0 weightp=2 keyint=250 keyint_min=1 scenecut=40 intra_refresh=0 rc_lookahead=40 rc=crf mbtree=1 crf=23.0 qcomp=0.60 qpmin=0 qpmax=69 qpstep=4 ip_ratio=1.40 aq=1:1.00\n",
            "Output #0, mp4, to '../final_result.mp4':\n",
            "  Metadata:\n",
            "    encoder         : Lavf57.83.100\n",
            "    Stream #0:0: Video: h264 (libx264) (avc1 / 0x31637661), yuv420p, 1920x1080 [SAR 9:16 DAR 1:1], q=-1--1, 1 fps, 16384 tbn, 1 tbc\n",
            "    Metadata:\n",
            "      encoder         : Lavc57.107.100 libx264\n",
            "    Side data:\n",
            "      cpb: bitrate max/min/avg: 0/0/0 buffer size: 0 vbv_delay: -1\n",
            "frame=  394 fps=3.8 q=-1.0 Lsize=   39251kB time=00:06:31.00 bitrate= 822.4kbits/s dup=0 drop=391 speed=3.78x    \n",
            "video:39248kB audio:0kB subtitle:0kB other streams:0kB global headers:0kB muxing overhead: 0.007609%\n",
            "\u001b[1;36m[libx264 @ 0x55cd9d673e00] \u001b[0mframe I:12    Avg QP: 8.99  size:153401\n",
            "\u001b[1;36m[libx264 @ 0x55cd9d673e00] \u001b[0mframe P:379   Avg QP:12.14  size:100524\n",
            "\u001b[1;36m[libx264 @ 0x55cd9d673e00] \u001b[0mframe B:3     Avg QP:12.91  size: 83300\n",
            "\u001b[1;36m[libx264 @ 0x55cd9d673e00] \u001b[0mconsecutive B-frames: 98.5%  1.5%  0.0%  0.0%\n",
            "\u001b[1;36m[libx264 @ 0x55cd9d673e00] \u001b[0mmb I  I16..4:  7.8% 74.5% 17.7%\n",
            "\u001b[1;36m[libx264 @ 0x55cd9d673e00] \u001b[0mmb P  I16..4:  6.9% 72.6% 15.5%  P16..4:  2.7%  0.8%  0.3%  0.0%  0.0%    skip: 1.0%\n",
            "\u001b[1;36m[libx264 @ 0x55cd9d673e00] \u001b[0mmb B  I16..4:  0.2% 21.5%  3.9%  B16..8: 12.5%  4.9%  1.4%  direct: 0.6%  skip:55.1%  L0:23.7% L1:73.8% BI: 2.5%\n",
            "\u001b[1;36m[libx264 @ 0x55cd9d673e00] \u001b[0m8x8 transform intra:76.3% inter:85.3%\n",
            "\u001b[1;36m[libx264 @ 0x55cd9d673e00] \u001b[0mcoded y,uvDC,uvAC intra: 76.3% 72.9% 58.7% inter: 43.0% 47.3% 9.0%\n",
            "\u001b[1;36m[libx264 @ 0x55cd9d673e00] \u001b[0mi16 v,h,dc,p: 15% 18%  5% 62%\n",
            "\u001b[1;36m[libx264 @ 0x55cd9d673e00] \u001b[0mi8 v,h,dc,ddl,ddr,vr,hd,vl,hu: 27% 31% 11%  4%  5%  4%  7%  4%  7%\n",
            "\u001b[1;36m[libx264 @ 0x55cd9d673e00] \u001b[0mi4 v,h,dc,ddl,ddr,vr,hd,vl,hu: 34% 35%  7%  3%  6%  3%  6%  2%  3%\n",
            "\u001b[1;36m[libx264 @ 0x55cd9d673e00] \u001b[0mi8c dc,h,v,p: 43% 30% 17%  9%\n",
            "\u001b[1;36m[libx264 @ 0x55cd9d673e00] \u001b[0mWeighted P-Frames: Y:1.8% UV:1.6%\n",
            "\u001b[1;36m[libx264 @ 0x55cd9d673e00] \u001b[0mref P L0: 25.1%  2.5% 44.7% 26.8%  0.9%\n",
            "\u001b[1;36m[libx264 @ 0x55cd9d673e00] \u001b[0mref B L0: 99.4%  0.6%\n",
            "\u001b[1;36m[libx264 @ 0x55cd9d673e00] \u001b[0mkb/s:816.03\n",
            "/content\n"
          ],
          "name": "stdout"
        }
      ]
    },
    {
      "cell_type": "code",
      "metadata": {
        "id": "F3t65u-YFNx5",
        "colab_type": "code",
        "colab": {
          "base_uri": "https://localhost:8080/",
          "height": 85
        },
        "outputId": "a9db3a0c-b4eb-4073-d558-a11b9cefb623"
      },
      "source": [
        "!pip install -U kora\n",
        "from kora.drive import upload_public"
      ],
      "execution_count": 11,
      "outputs": [
        {
          "output_type": "stream",
          "text": [
            "Collecting kora\n",
            "  Downloading https://files.pythonhosted.org/packages/31/f1/f197439bc58bebee55d3e1c95237d5c0f310ac999c6a5dbc30be4234fe03/kora-0.5.6-py3-none-any.whl\n",
            "Installing collected packages: kora\n",
            "Successfully installed kora-0.5.6\n"
          ],
          "name": "stdout"
        }
      ]
    },
    {
      "cell_type": "code",
      "metadata": {
        "id": "MQbs6pwjFQaf",
        "colab_type": "code",
        "colab": {
          "base_uri": "https://localhost:8080/",
          "height": 35
        },
        "outputId": "30472793-7aa2-45c5-f58b-09fe715ec212"
      },
      "source": [
        "url = upload_public('final_result.mp4')\n",
        "url"
      ],
      "execution_count": 13,
      "outputs": [
        {
          "output_type": "execute_result",
          "data": {
            "application/vnd.google.colaboratory.intrinsic+json": {
              "type": "string"
            },
            "text/plain": [
              "'https://drive.google.com/uc?id=1P5TY6G9b7NeNqV9JjSeJy5le42t2FiYT'"
            ]
          },
          "metadata": {
            "tags": []
          },
          "execution_count": 13
        }
      ]
    },
    {
      "cell_type": "markdown",
      "metadata": {
        "id": "qPW60pRshwzx",
        "colab_type": "text"
      },
      "source": [
        "we use general html code to display video."
      ]
    },
    {
      "cell_type": "code",
      "metadata": {
        "id": "TsSnJKjfJLip",
        "colab_type": "code",
        "colab": {
          "base_uri": "https://localhost:8080/",
          "height": 261
        },
        "outputId": "5ff7c7ba-b017-459a-e615-d8a2d91978ac"
      },
      "source": [
        "from IPython.display import HTML\n",
        "HTML(f\"\"\"<video src={url} width=\"320\" height=\"240\" controls/>\"\"\")"
      ],
      "execution_count": 14,
      "outputs": [
        {
          "output_type": "execute_result",
          "data": {
            "text/html": [
              "<video src=https://drive.google.com/uc?id=1P5TY6G9b7NeNqV9JjSeJy5le42t2FiYT width=\"320\" height=\"240\" controls/>"
            ],
            "text/plain": [
              "<IPython.core.display.HTML object>"
            ]
          },
          "metadata": {
            "tags": []
          },
          "execution_count": 14
        }
      ]
    }
  ]
}